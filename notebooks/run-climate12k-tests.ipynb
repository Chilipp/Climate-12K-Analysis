{
 "cells": [
  {
   "cell_type": "markdown",
   "metadata": {},
   "source": [
    "# Run the tests for Climate12K\n",
    "\n",
    "This notebooks runs the test for the Climate12K database. To run the tests on the data, just click on *Cell* &rarr; *Run all*. When the notebook is finished (i.e. if you see a table [at the bottom](#final)), you can download the Excel file with the aggregated results [here](../data/results.xlsx) and access the detailed test report formatted as HTML [here](../data/report.html).\n",
    "\n",
    "This notebook downloads the database from http://lipdverse.org/globalHolocene/current_version, based on the version you specify in the `db_version` variable (see below). It has been developed by Philipp Sommer (philipp.sommer@unil.ch), please do not hesitate to get in touch if you run into any problems.\n",
    "\n",
    "**Things you might want to adapt:**\n",
    "\n",
    "- the database version string (`db_version`, see [here](#db_version))"
   ]
  },
  {
   "cell_type": "code",
   "execution_count": null,
   "metadata": {},
   "outputs": [],
   "source": [
    "import pandas as pd\n",
    "import os.path as osp\n",
    "from urllib import request\n",
    "import zipfile"
   ]
  },
  {
   "cell_type": "markdown",
   "metadata": {},
   "source": [
    "<a id=db_version></a>Read in the LipD data from http://lipdverse.org/globalHolocene/current_version\n",
    "\n",
    "You should set the latest version here manually!"
   ]
  },
  {
   "cell_type": "code",
   "execution_count": null,
   "metadata": {},
   "outputs": [],
   "source": [
    "db_version = '0_30_1'"
   ]
  },
  {
   "cell_type": "code",
   "execution_count": null,
   "metadata": {},
   "outputs": [],
   "source": [
    "%%time\n",
    "if not osp.exists('../data'):\n",
    "    os.makedirs('../data')\n",
    "    zipped = f'globalHolocene{db_version}.zip'\n",
    "    uri = f'http://lipdverse.org/globalHolocene/current_version/{zipped}'\n",
    "    target = osp.join('../data', zipped)\n",
    "    print('downloading ' + uri)\n",
    "    request.urlretrieve(uri, target)\n",
    "    with zipfile.ZipFile(target) as f:\n",
    "        f.extractall('../data')"
   ]
  },
  {
   "cell_type": "markdown",
   "metadata": {},
   "source": [
    "Now we run the tests using the pytest command and serialize the data. This eventually produces a lot of output if the data contains multiple errors. But don't worry, you can access an aggregated test report for Excel [here](../data/results.xlsx) and you can view the detailed test results formatted as HTML [here](../data/report.html). \n",
    "\n",
    "Note: Each test has his own nodeid. With this nodeid (e.g. `tests/test_data.py::test_duplicated_ages[AMP112.vanderBilt.2016.LPDd2a984fe]`) that appears in the html report and in the Excel file, you can use both files together."
   ]
  },
  {
   "cell_type": "code",
   "execution_count": null,
   "metadata": {},
   "outputs": [],
   "source": [
    "!pytest ../tests --html=../data/report.html --self-contained-html --serialize-lipds ../data/lipds.pkl"
   ]
  },
  {
   "cell_type": "markdown",
   "metadata": {},
   "source": [
    "If you want to rerun these tests, better now set the `--lipd-data=../data/lipds.pkl` to speed them up. You can rerun the tests by removing the `#` in the following line:"
   ]
  },
  {
   "cell_type": "code",
   "execution_count": null,
   "metadata": {},
   "outputs": [],
   "source": [
    "#!pytest ../tests --html=../data/report.html --self-contained-html --lipd-data ../data/lipds.pkl"
   ]
  },
  {
   "cell_type": "markdown",
   "metadata": {},
   "source": [
    "<a id=\"final\"></a>Finally, let's have a look into the summary table of the test report."
   ]
  },
  {
   "cell_type": "code",
   "execution_count": null,
   "metadata": {},
   "outputs": [],
   "source": [
    "summary = pd.read_excel('../data/results.xlsx', 'Summary')\n",
    "summary"
   ]
  }
 ],
 "metadata": {
  "kernelspec": {
   "display_name": "climate12k",
   "language": "python",
   "name": "climate12"
  },
  "language_info": {
   "codemirror_mode": {
    "name": "ipython",
    "version": 3
   },
   "file_extension": ".py",
   "mimetype": "text/x-python",
   "name": "python",
   "nbconvert_exporter": "python",
   "pygments_lexer": "ipython3",
   "version": "3.7.3"
  }
 },
 "nbformat": 4,
 "nbformat_minor": 2
}
